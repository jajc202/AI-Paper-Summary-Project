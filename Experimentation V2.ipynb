{
 "cells": [
  {
   "cell_type": "markdown",
   "metadata": {},
   "source": [
    "# **Experimentation V2**"
   ]
  },
  {
   "cell_type": "markdown",
   "metadata": {},
   "source": [
    "### **Create Paper Data**"
   ]
  },
  {
   "cell_type": "code",
   "execution_count": 1,
   "metadata": {},
   "outputs": [],
   "source": [
    "# Import the paperscraper module\n",
    "from paperscraper import paperscraper\n",
    "\n",
    "# Create an instance of the class\n",
    "scraper = paperscraper('2024-10-04')\n",
    "\n",
    "# Get sections of AIAYN paper using html_subdivide function\n",
    "AIAYN_sections = scraper.html_subdivide('https://arxiv.org/html/1706.03762v7')"
   ]
  },
  {
   "cell_type": "markdown",
   "metadata": {},
   "source": [
    "### **Summarisation**"
   ]
  },
  {
   "cell_type": "code",
   "execution_count": 2,
   "metadata": {},
   "outputs": [
    {
     "name": "stderr",
     "output_type": "stream",
     "text": [
      "You are using the default legacy behaviour of the <class 'transformers.models.t5.tokenization_t5.T5Tokenizer'>. This is expected, and simply means that the `legacy` (previous) behavior will be used so nothing changes for you. If you want to use the new behaviour, set `legacy=False`. This should only be set if you understand what it means, and thoroughly read the reason why this was added as explained in https://github.com/huggingface/transformers/pull/24565\n"
     ]
    }
   ],
   "source": [
    "# Import os\n",
    "import os\n",
    "\n",
    "# Import GPT model and tokenizer\n",
    "os.environ['HF_HOME'] = r'C:\\Users\\josha\\AppData\\Local\\Temp'        # Set cache directory for HuggingFace\n",
    "from transformers import T5Tokenizer, T5ForConditionalGeneration    # Using Google FLAN-T5\n",
    "\n",
    "# Create an instance of the tokenizer\n",
    "tokenizer = T5Tokenizer.from_pretrained(\"google/flan-t5-base\")\n",
    "\n",
    "# Create an instance of the model\n",
    "model = T5ForConditionalGeneration.from_pretrained(\"google/flan-t5-base\", pad_token_id=tokenizer.eos_token_id)"
   ]
  },
  {
   "cell_type": "code",
   "execution_count": 3,
   "metadata": {},
   "outputs": [],
   "source": [
    "# Create summarisation function\n",
    "def section_summarizer(text):\n",
    "    # Define prompt\n",
    "    prompt = f'''You are an AI assistant capable of summarizing academic content on AI and Machine Learning for non-academic readers. Your summaries are given in the third-person, and are about 2-3 sentences in length.\n",
    "    Summarize the following abstract:\n",
    "    {text}'''\n",
    "\n",
    "    # Encode prompt\n",
    "    input_ids = tokenizer.encode(prompt, return_tensors='pt')\n",
    "\n",
    "    # Generate response\n",
    "    output = model.generate(\n",
    "        input_ids,                  # Input ids\n",
    "        max_length = 500,           # Maximum number of tokens to generate\n",
    "        num_beams = 5,              # Needed as next token is found using beam search\n",
    "        no_repeat_ngram_size = 2,   # Stops model from repeating word sequences repeatedly\n",
    "        early_stopping = False,      # If output becomes not very good, stop generating\n",
    "    )\n",
    "\n",
    "    # Return the decoded the output\n",
    "    return tokenizer.decode(output[0], skip_special_tokens=True)"
   ]
  },
  {
   "cell_type": "code",
   "execution_count": 4,
   "metadata": {},
   "outputs": [
    {
     "ename": "SyntaxError",
     "evalue": "expected ':' (1002986541.py, line 3)",
     "output_type": "error",
     "traceback": [
      "\u001b[1;36m  Cell \u001b[1;32mIn[4], line 3\u001b[1;36m\u001b[0m\n\u001b[1;33m    for section, content in AIAYN_sections.items()\u001b[0m\n\u001b[1;37m                                                  ^\u001b[0m\n\u001b[1;31mSyntaxError\u001b[0m\u001b[1;31m:\u001b[0m expected ':'\n"
     ]
    }
   ],
   "source": [
    "summarised_sections = {}\n",
    "\n",
    "for section, content in AIAYN_sections.items():\n",
    "    summarised_sections[section] = section_summarizer(content)"
   ]
  }
 ],
 "metadata": {
  "kernelspec": {
   "display_name": "Python 3",
   "language": "python",
   "name": "python3"
  },
  "language_info": {
   "codemirror_mode": {
    "name": "ipython",
    "version": 3
   },
   "file_extension": ".py",
   "mimetype": "text/x-python",
   "name": "python",
   "nbconvert_exporter": "python",
   "pygments_lexer": "ipython3",
   "version": "3.11.4"
  }
 },
 "nbformat": 4,
 "nbformat_minor": 2
}
