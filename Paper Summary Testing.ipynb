{
 "cells": [
  {
   "cell_type": "markdown",
   "metadata": {},
   "source": [
    "# **Paper Summary Tester**"
   ]
  },
  {
   "cell_type": "markdown",
   "metadata": {},
   "source": [
    "## **Import Libraries**"
   ]
  },
  {
   "cell_type": "code",
   "execution_count": 1,
   "metadata": {},
   "outputs": [],
   "source": [
    "# Import PaperSummary to summarise the text\n",
    "from PaperSummary import PaperSummary\n",
    "\n",
    "# Import PaperScraper to get the text from the link\n",
    "from paperscraper import PaperScraper"
   ]
  },
  {
   "cell_type": "markdown",
   "metadata": {},
   "source": [
    "## **Input Parameters**"
   ]
  },
  {
   "cell_type": "code",
   "execution_count": 2,
   "metadata": {},
   "outputs": [],
   "source": [
    "# Specify links paper to summarise\n",
    "arxiv_link = r\"https://arxiv.org/abs/2411.05830\"\n",
    "pdf_link = r\"https://arxiv.org/pdf/2411.05830\"\n",
    "\n",
    "# Specify title of the paper\n",
    "paper_name = \"GitChameleon: Unmasking the Version-Switching Capabilities of Code Generation Models\""
   ]
  },
  {
   "cell_type": "markdown",
   "metadata": {},
   "source": [
    "## **Summarise the Paper**"
   ]
  },
  {
   "cell_type": "code",
   "execution_count": 3,
   "metadata": {},
   "outputs": [],
   "source": [
    "# Create an instance of PaperScraper\n",
    "scraper = PaperScraper(\"2024-11-12\")\n",
    "\n",
    "# Define a pseudo-'paper_pdfs' dict\n",
    "paper_pdfs = {paper_name: [arxiv_link, pdf_link]}\n",
    "\n",
    "# Scrape the text from the pdf\n",
    "paper_text = scraper.get_pdf_text(paper_pdfs)\n",
    "\n",
    "# Create an instance of PaperSummary\n",
    "summarizer = PaperSummary()\n",
    "\n",
    "# Summarise the paper\n",
    "summarized_text =  summarizer.paper_summarizer(paper_text[paper_name])"
   ]
  },
  {
   "cell_type": "code",
   "execution_count": 4,
   "metadata": {},
   "outputs": [
    {
     "data": {
      "text/plain": [
       "\"Summary: This paper presents a novel methodology for testing Python code snippets in artificial intelligence (AI), particularly focusing on machine learning models. By integrating a virtual environment, specific library installations, and test executions with timeouts, the approach enhances reliability and efficiency while mitigating issues related to external dependencies and version compatibility.\\n\\nArea of AI: The methodology applies to general Python code snippets used in various domains within AI, including but not limited to machine learning models, natural language processing tasks, data preprocessing routines, and image manipulation techniques.\\n\\nKey Findings: 1) The proposed approach successfully validates the functionality of Python code snippets by creating virtual environments tailored for each test case's requirements, effectively handling external dependencies, library versions, and installation processes. This results in reliable testing outcomes across diverse AI domains.\\n2) Incorporating timeout settings ensures that tests are completed within a reasonable timeframe, providing quick feedback on the code snippets' performance while preventing potential hang-ups caused by unforeseen issues during execution. 3) The paper demonstrates effective application of this methodology through multiple case studies, such as testing machine learning models and handling image data manipulation tasks.\\n\\nReal-world deployment: Adopting the proposed validation process enables developers to ensure the quality and reliability of Python code snippets used in various AI applications before deploying them into production environments. This reduces potential risks associated with untested or improperly functioning components, ultimately leading to more robust AI solutions across different industries (e.g., healthcare, finance, retail) and domains (e.g., autonomous vehicles, personalized recommendations, fraud detection).\""
      ]
     },
     "execution_count": 4,
     "metadata": {},
     "output_type": "execute_result"
    }
   ],
   "source": [
    "summarized_text"
   ]
  }
 ],
 "metadata": {
  "kernelspec": {
   "display_name": "Python 3",
   "language": "python",
   "name": "python3"
  },
  "language_info": {
   "codemirror_mode": {
    "name": "ipython",
    "version": 3
   },
   "file_extension": ".py",
   "mimetype": "text/x-python",
   "name": "python",
   "nbconvert_exporter": "python",
   "pygments_lexer": "ipython3",
   "version": "3.11.4"
  }
 },
 "nbformat": 4,
 "nbformat_minor": 2
}
