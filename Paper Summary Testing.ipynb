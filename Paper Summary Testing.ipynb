{
 "cells": [
  {
   "cell_type": "markdown",
   "metadata": {},
   "source": [
    "# **Paper Summary Tester**"
   ]
  },
  {
   "cell_type": "markdown",
   "metadata": {},
   "source": [
    "## **Import Libraries**"
   ]
  },
  {
   "cell_type": "code",
   "execution_count": 1,
   "metadata": {},
   "outputs": [],
   "source": [
    "# Import PaperSummary to summarise the text\n",
    "from PaperSummary import PaperSummary\n",
    "\n",
    "# Import PaperScraper to get the text from the link\n",
    "from paperscraper import PaperScraper"
   ]
  },
  {
   "cell_type": "markdown",
   "metadata": {},
   "source": [
    "## **Input Parameters**"
   ]
  },
  {
   "cell_type": "code",
   "execution_count": 2,
   "metadata": {},
   "outputs": [],
   "source": [
    "# Specify links paper to summarise\n",
    "arxiv_link = r\"https://arxiv.org/abs/2411.05830\"\n",
    "pdf_link = r\"https://arxiv.org/pdf/2411.05830\"\n",
    "\n",
    "# Specify title of the paper\n",
    "paper_name = \"GitChameleon: Unmasking the Version-Switching Capabilities of Code Generation Models\""
   ]
  },
  {
   "cell_type": "markdown",
   "metadata": {},
   "source": [
    "## **Summarise the Paper**"
   ]
  },
  {
   "cell_type": "code",
   "execution_count": 3,
   "metadata": {},
   "outputs": [],
   "source": [
    "# Create an instance of PaperScraper\n",
    "scraper = PaperScraper(\"2024-11-12\")\n",
    "\n",
    "# Define a pseudo-'paper_pdfs' dict\n",
    "paper_pdfs = {paper_name: [arxiv_link, pdf_link]}\n",
    "\n",
    "# Scrape the text from the pdf\n",
    "paper_text = scraper.get_pdf_text(paper_pdfs)\n",
    "\n",
    "# Create an instance of PaperSummary\n",
    "summarizer = PaperSummary()\n",
    "\n",
    "# Summarise the paper\n",
    "summarized_text =  summarizer.paper_summarizer(paper_text[paper_name])"
   ]
  },
  {
   "cell_type": "code",
   "execution_count": 4,
   "metadata": {},
   "outputs": [
    {
     "data": {
      "text/plain": [
       "\"1) This research explores advanced techniques for code verification and validation, specifically focusing on Python programming language. The paper presents a comprehensive method for validating input/output (I/O) behavior of functions or modules using test cases. It includes generating sample solutions with GPT-4o based on error feedbacks to ensure the accuracy and correctness of code snippets in various scenarios, including graphical libraries like gradio and networkx, and virtual environment management for dependency installation.\\n    2) The paper applies to AI areas such as automated testing, code analysis, and intelligent assistants or IDEs that can suggest test cases, identify errors, and provide solutions based on deep learning models like GPT-4o. \\n   3) Key findings include a novel method for verifying Python functions' I/O behavior using gradio to generate interactive interfaces between code snippets and their input/output examples. The research also demonstrates the successful application of large language models, specifically gpt4o, in generating solutions based on error feedbacks from sample outputs with Gradio and NetworkX libraries. Additionally, the paper presents an automated method for creating virtual environments and installing library dependencies using pip commands executed within a Python script.\\n   4) In real-world deployment scenarios: \\n      - Automated testing tools can use this verification technique to create more effective test cases that capture both typical usage patterns and edge cases, improving the overall robustness of software systems.\\n      - Code analysis tools can utilize large language models like gpt4o for code completion, suggestion, and error correction based on learned knowledge from vast amounts of publicly available Python code. \\n      - Integrated Development Environments (IDEs) or intelligent assistants can provide better assistance to developers by suggesting test cases, identifying potential errors in the code snippet, and providing solutions using deep learning models like gpt4o based on error feedbacks from sample outputs with Gradio and NetworkX libraries.\\n      - The automated method for creating virtual environments and installing library dependencies will help reduce human error in setting up development environments and ensure that all required components are installed correctly to prevent runtime issues or unexpected behavior during code execution.\""
      ]
     },
     "execution_count": 4,
     "metadata": {},
     "output_type": "execute_result"
    }
   ],
   "source": [
    "summarized_text"
   ]
  }
 ],
 "metadata": {
  "kernelspec": {
   "display_name": "Python 3",
   "language": "python",
   "name": "python3"
  },
  "language_info": {
   "codemirror_mode": {
    "name": "ipython",
    "version": 3
   },
   "file_extension": ".py",
   "mimetype": "text/x-python",
   "name": "python",
   "nbconvert_exporter": "python",
   "pygments_lexer": "ipython3",
   "version": "3.11.4"
  }
 },
 "nbformat": 4,
 "nbformat_minor": 2
}
